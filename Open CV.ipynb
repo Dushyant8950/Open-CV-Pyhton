{
 "cells": [
  {
   "cell_type": "code",
   "execution_count": 1,
   "id": "c467f773-6093-40cd-aab1-059f1997518d",
   "metadata": {},
   "outputs": [
    {
     "name": "stdout",
     "output_type": "stream",
     "text": [
      "Requirement already satisfied: opencv-python in c:\\users\\dushyant sharma\\anaconda3\\lib\\site-packages (4.10.0.84)\n",
      "Requirement already satisfied: numpy>=1.21.2 in c:\\users\\dushyant sharma\\anaconda3\\lib\\site-packages (from opencv-python) (1.26.4)\n",
      "Note: you may need to restart the kernel to use updated packages.\n"
     ]
    }
   ],
   "source": [
    "pip install opencv-python"
   ]
  },
  {
   "cell_type": "code",
   "execution_count": 3,
   "id": "381146ba-ab37-44d9-b8d5-f04e577ab9a2",
   "metadata": {},
   "outputs": [],
   "source": [
    "import cv2\n",
    "\n",
    "# Load an image from file\n",
    "image = cv2.imread('Fruits.jpeg')\n",
    "\n",
    "# Convert the image to grayscale\n",
    "gray_image = cv2.cvtColor(image, cv2.COLOR_BGR2GRAY)\n",
    "\n",
    "# Display the original image\n",
    "cv2.imshow('Original Image', image)\n",
    "\n",
    "# Display the grayscale image\n",
    "cv2.imshow('Grayscale Image', gray_image)\n",
    "\n",
    "# Wait indefinitely until a key is pressed\n",
    "cv2.waitKey(0)\n",
    "\n",
    "# Destroy all OpenCV windows\n",
    "cv2.destroyAllWindows()"
   ]
  },
  {
   "cell_type": "code",
   "execution_count": 4,
   "id": "fe508ac7-98f9-4515-9096-26a8840b8a8b",
   "metadata": {},
   "outputs": [],
   "source": [
    "import cv2\n",
    "image2 = cv2.imread(\"Animals.jpg\")\n",
    "gray_image2 = cv2.cvtColor(image2, cv2.COLOR_BGR2GRAY)\n",
    "cv2.imshow('Original Image', image2)\n",
    "cv2.imshow('Grayscale Image', gray_image2)\n",
    "cv2.waitKey(0)\n",
    "cv2.destroyAllWindows()"
   ]
  },
  {
   "cell_type": "code",
   "execution_count": 5,
   "id": "3b6f293e-1f4a-4e18-94c4-bb198df3658b",
   "metadata": {},
   "outputs": [],
   "source": [
    "import cv2\n",
    "image3 = cv2.imread(\"RM.jpeg\")\n",
    "gray_image3 = cv2.cvtColor(image3, cv2.COLOR_BGR2GRAY)\n",
    "cv2.imshow('Original Image', image3)\n",
    "cv2.imshow('Grayscale Image', gray_image3)\n",
    "cv2.waitKey(0)\n",
    "cv2.destroyAllWindows()"
   ]
  },
  {
   "cell_type": "code",
   "execution_count": 7,
   "id": "28919b3f-15ee-40ff-a132-a0117d7528f8",
   "metadata": {},
   "outputs": [],
   "source": [
    "import cv2\n",
    "image4 = cv2.imread(\"AA.jpeg\")\n",
    "gray_image4 = cv2.cvtColor(image4, cv2.COLOR_BGR2GRAY)\n",
    "cv2.imshow('Original Image', image4)\n",
    "cv2.imshow('Grayscale Image', gray_image4)\n",
    "cv2.waitKey(0)\n",
    "cv2.destroyAllWindows()"
   ]
  }
 ],
 "metadata": {
  "kernelspec": {
   "display_name": "Python 3 (ipykernel)",
   "language": "python",
   "name": "python3"
  },
  "language_info": {
   "codemirror_mode": {
    "name": "ipython",
    "version": 3
   },
   "file_extension": ".py",
   "mimetype": "text/x-python",
   "name": "python",
   "nbconvert_exporter": "python",
   "pygments_lexer": "ipython3",
   "version": "3.12.4"
  }
 },
 "nbformat": 4,
 "nbformat_minor": 5
}
