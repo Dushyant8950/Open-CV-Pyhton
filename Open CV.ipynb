{
 "cells": [
  {
   "cell_type": "code",
   "execution_count": 1,
   "id": "c467f773-6093-40cd-aab1-059f1997518d",
   "metadata": {},
   "outputs": [
    {
     "name": "stdout",
     "output_type": "stream",
     "text": [
      "Requirement already satisfied: opencv-python in c:\\users\\dushyant sharma\\anaconda3\\lib\\site-packages (4.10.0.84)Note: you may need to restart the kernel to use updated packages.\n",
      "\n",
      "Requirement already satisfied: numpy>=1.21.2 in c:\\users\\dushyant sharma\\anaconda3\\lib\\site-packages (from opencv-python) (1.26.4)\n"
     ]
    }
   ],
   "source": [
    "pip install opencv-python"
   ]
  },
  {
   "cell_type": "markdown",
   "id": "933f4d34-fc76-4171-9d48-f034186e5e2d",
   "metadata": {},
   "source": [
    "# BGR COlor and BGR2GRAY :-"
   ]
  },
  {
   "cell_type": "code",
   "execution_count": 2,
   "id": "381146ba-ab37-44d9-b8d5-f04e577ab9a2",
   "metadata": {},
   "outputs": [],
   "source": [
    "import cv2\n",
    "\n",
    "# Load an image from file\n",
    "image = cv2.imread('Fruits.jpeg')\n",
    "\n",
    "# Convert the image to grayscale\n",
    "gray_image = cv2.cvtColor(image, cv2.COLOR_BGR2GRAY)\n",
    "\n",
    "# Display the original image\n",
    "cv2.imshow('Original Image', image)\n",
    "\n",
    "# Display the grayscale image\n",
    "cv2.imshow('Grayscale Image', gray_image)\n",
    "\n",
    "# Wait indefinitely until a key is pressed\n",
    "cv2.waitKey(0)\n",
    "\n",
    "# Destroy all OpenCV windows\n",
    "cv2.destroyAllWindows()"
   ]
  },
  {
   "cell_type": "code",
   "execution_count": 3,
   "id": "fe508ac7-98f9-4515-9096-26a8840b8a8b",
   "metadata": {},
   "outputs": [],
   "source": [
    "import cv2\n",
    "image2 = cv2.imread(\"Animals.jpg\")\n",
    "gray_image2 = cv2.cvtColor(image2, cv2.COLOR_BGR2GRAY)\n",
    "cv2.imshow('Original Image', image2)\n",
    "cv2.imshow('Grayscale Image', gray_image2)\n",
    "cv2.waitKey(0)\n",
    "cv2.destroyAllWindows()"
   ]
  },
  {
   "cell_type": "code",
   "execution_count": 4,
   "id": "3b6f293e-1f4a-4e18-94c4-bb198df3658b",
   "metadata": {},
   "outputs": [],
   "source": [
    "import cv2\n",
    "image3 = cv2.imread(\"RM.jpeg\")\n",
    "gray_image3 = cv2.cvtColor(image3, cv2.COLOR_BGR2GRAY)\n",
    "cv2.imshow('Original Image', image3)\n",
    "cv2.imshow('Grayscale Image', gray_image3)\n",
    "cv2.waitKey(0)\n",
    "cv2.destroyAllWindows()"
   ]
  },
  {
   "cell_type": "code",
   "execution_count": 5,
   "id": "28919b3f-15ee-40ff-a132-a0117d7528f8",
   "metadata": {},
   "outputs": [],
   "source": [
    "import cv2\n",
    "image4 = cv2.imread(\"AA.jpeg\")\n",
    "gray_image4 = cv2.cvtColor(image4, cv2.COLOR_BGR2GRAY)\n",
    "cv2.imshow('Original Image', image4)\n",
    "cv2.imshow('Grayscale Image', gray_image4)\n",
    "cv2.waitKey(0)\n",
    "cv2.destroyAllWindows()"
   ]
  },
  {
   "cell_type": "markdown",
   "id": "b0f32cf8-53ab-4e29-bf84-93b5af2898df",
   "metadata": {},
   "source": [
    "# BGR2HSV :-"
   ]
  },
  {
   "cell_type": "code",
   "execution_count": 6,
   "id": "904610c8-9427-449e-8b3e-93dc2b02880a",
   "metadata": {},
   "outputs": [],
   "source": [
    "# Convert image to HSV color space\n",
    "hsv_image = cv2.cvtColor(image, cv2.COLOR_BGR2HSV)\n",
    "cv2.imshow('HSV Image', image4)\n",
    "cv2.waitKey(0)\n",
    "cv2.destroyAllWindows()"
   ]
  },
  {
   "cell_type": "markdown",
   "id": "ea260c89-9279-43af-a6f9-dbc0718ad3fd",
   "metadata": {
    "jp-MarkdownHeadingCollapsed": true
   },
   "source": [
    "# Drawing Shapes on Images"
   ]
  },
  {
   "cell_type": "code",
   "execution_count": null,
   "id": "31d9ad62-d022-415c-894d-e8c1c5ca8a41",
   "metadata": {},
   "outputs": [],
   "source": [
    "# Draw a line\n",
    "cv2.line(image, (0, 0), (100, 100), (255, 0, 0), 5)\n",
    "\n",
    "# Draw a rectangle\n",
    "cv2.rectangle(image, (50, 50), (150, 150), (0, 255, 0), 3)\n",
    "\n",
    "# Draw a circle\n",
    "cv2.circle(image, (100, 100), 50, (0, 0, 255), -1)"
   ]
  },
  {
   "cell_type": "markdown",
   "id": "dce63e50-fbe1-4f4a-b21c-c2752b6f8fbb",
   "metadata": {},
   "source": [
    "#  Image Transformations"
   ]
  },
  {
   "cell_type": "markdown",
   "id": "02a48b56-ca6c-43a9-808d-30072d26111f",
   "metadata": {},
   "source": [
    "# (a) Resizing :-"
   ]
  },
  {
   "cell_type": "code",
   "execution_count": 7,
   "id": "52b789bc-6565-4ebd-a5ee-24242e4f2f40",
   "metadata": {},
   "outputs": [
    {
     "data": {
      "text/plain": [
       "array([[[ 29,  16,  24],\n",
       "        [ 30,  17,  25],\n",
       "        [ 31,  18,  26],\n",
       "        ...,\n",
       "        [  5,   3,   9],\n",
       "        [  5,   3,   9],\n",
       "        [  4,   3,   7]],\n",
       "\n",
       "       [[ 29,  16,  24],\n",
       "        [ 30,  17,  25],\n",
       "        [ 31,  18,  26],\n",
       "        ...,\n",
       "        [  5,   3,   9],\n",
       "        [  5,   3,   9],\n",
       "        [  4,   3,   7]],\n",
       "\n",
       "       [[ 29,  16,  24],\n",
       "        [ 30,  17,  25],\n",
       "        [ 31,  18,  26],\n",
       "        ...,\n",
       "        [  5,   3,   9],\n",
       "        [  5,   3,   9],\n",
       "        [  4,   3,   7]],\n",
       "\n",
       "       ...,\n",
       "\n",
       "       [[ 10,  40, 109],\n",
       "        [  7,  37, 103],\n",
       "        [  7,  35,  98],\n",
       "        ...,\n",
       "        [  3,  21,  65],\n",
       "        [  3,  21,  65],\n",
       "        [  1,  20,  64]],\n",
       "\n",
       "       [[ 12,  43, 112],\n",
       "        [ 12,  43, 109],\n",
       "        [ 14,  44, 108],\n",
       "        ...,\n",
       "        [  3,  23,  67],\n",
       "        [  3,  22,  67],\n",
       "        [  2,  20,  65]],\n",
       "\n",
       "       [[ 15,  46, 115],\n",
       "        [ 16,  47, 113],\n",
       "        [ 20,  51, 114],\n",
       "        ...,\n",
       "        [  3,  22,  67],\n",
       "        [  2,  21,  66],\n",
       "        [  2,  21,  66]]], dtype=uint8)"
      ]
     },
     "execution_count": 7,
     "metadata": {},
     "output_type": "execute_result"
    }
   ],
   "source": [
    "resized_image = cv2.resize(image, (200, 200))\n",
    "resized_image "
   ]
  },
  {
   "cell_type": "markdown",
   "id": "6fbbbbf5-1adc-4e63-83f3-9fbade68162f",
   "metadata": {},
   "source": [
    "# (b) Rotating :-"
   ]
  },
  {
   "cell_type": "code",
   "execution_count": 8,
   "id": "280107a3-4ac2-4861-9117-3371445ef7d2",
   "metadata": {},
   "outputs": [
    {
     "data": {
      "text/plain": [
       "array([[[0, 0, 0],\n",
       "        [0, 0, 0],\n",
       "        [0, 0, 0],\n",
       "        ...,\n",
       "        [0, 0, 0],\n",
       "        [0, 0, 0],\n",
       "        [0, 0, 0]],\n",
       "\n",
       "       [[0, 0, 0],\n",
       "        [0, 0, 0],\n",
       "        [0, 0, 0],\n",
       "        ...,\n",
       "        [0, 0, 0],\n",
       "        [0, 0, 0],\n",
       "        [0, 0, 0]],\n",
       "\n",
       "       [[0, 0, 0],\n",
       "        [0, 0, 0],\n",
       "        [0, 0, 0],\n",
       "        ...,\n",
       "        [0, 0, 0],\n",
       "        [0, 0, 0],\n",
       "        [0, 0, 0]],\n",
       "\n",
       "       ...,\n",
       "\n",
       "       [[0, 0, 0],\n",
       "        [0, 0, 0],\n",
       "        [0, 0, 0],\n",
       "        ...,\n",
       "        [0, 0, 0],\n",
       "        [0, 0, 0],\n",
       "        [0, 0, 0]],\n",
       "\n",
       "       [[0, 0, 0],\n",
       "        [0, 0, 0],\n",
       "        [0, 0, 0],\n",
       "        ...,\n",
       "        [0, 0, 0],\n",
       "        [0, 0, 0],\n",
       "        [0, 0, 0]],\n",
       "\n",
       "       [[0, 0, 0],\n",
       "        [0, 0, 0],\n",
       "        [0, 0, 0],\n",
       "        ...,\n",
       "        [0, 0, 0],\n",
       "        [0, 0, 0],\n",
       "        [0, 0, 0]]], dtype=uint8)"
      ]
     },
     "execution_count": 8,
     "metadata": {},
     "output_type": "execute_result"
    }
   ],
   "source": [
    "(h, w) = image.shape[:2]\n",
    "center = (w // 2, h // 2)\n",
    "\n",
    "# Rotate the image by 45 degrees\n",
    "matrix = cv2.getRotationMatrix2D(center, 45, 1.0)\n",
    "rotated_image = cv2.warpAffine(image, matrix, (w, h))\n",
    "rotated_image"
   ]
  },
  {
   "cell_type": "markdown",
   "id": "60cf9178-7998-4367-8336-9ab9a2252b3b",
   "metadata": {},
   "source": [
    "# (c) Cropped :-"
   ]
  },
  {
   "cell_type": "code",
   "execution_count": 9,
   "id": "ceccc3b8-82ff-4ce6-85ed-6b8271818e81",
   "metadata": {},
   "outputs": [
    {
     "data": {
      "text/plain": [
       "array([[[ 22,  12,  24],\n",
       "        [ 22,  12,  24],\n",
       "        [ 22,  12,  24],\n",
       "        ...,\n",
       "        [  8,   4,  16],\n",
       "        [  8,   4,  16],\n",
       "        [  8,   4,  16]],\n",
       "\n",
       "       [[ 22,  12,  24],\n",
       "        [ 22,  12,  24],\n",
       "        [ 22,  12,  24],\n",
       "        ...,\n",
       "        [  8,   4,  16],\n",
       "        [  8,   4,  16],\n",
       "        [  8,   4,  15]],\n",
       "\n",
       "       [[ 20,  12,  23],\n",
       "        [ 20,  12,  23],\n",
       "        [ 20,  12,  23],\n",
       "        ...,\n",
       "        [  8,   4,  16],\n",
       "        [  8,   4,  15],\n",
       "        [  8,   4,  15]],\n",
       "\n",
       "       ...,\n",
       "\n",
       "       [[  4,  20,  66],\n",
       "        [  7,  23,  70],\n",
       "        [  8,  22,  74],\n",
       "        ...,\n",
       "        [  8,  25,  76],\n",
       "        [  9,  25,  78],\n",
       "        [  8,  27,  78]],\n",
       "\n",
       "       [[ 19,  43,  89],\n",
       "        [ 20,  43,  91],\n",
       "        [ 20,  42,  94],\n",
       "        ...,\n",
       "        [ 12,  30,  83],\n",
       "        [ 13,  30,  86],\n",
       "        [ 12,  33,  85]],\n",
       "\n",
       "       [[ 23,  51,  98],\n",
       "        [ 23,  50, 100],\n",
       "        [ 23,  50, 101],\n",
       "        ...,\n",
       "        [  8,  25,  81],\n",
       "        [  7,  27,  82],\n",
       "        [  7,  28,  83]]], dtype=uint8)"
      ]
     },
     "execution_count": 9,
     "metadata": {},
     "output_type": "execute_result"
    }
   ],
   "source": [
    "cropped_image = image[50:200, 50:200]\n",
    "cropped_image"
   ]
  },
  {
   "cell_type": "markdown",
   "id": "8e254e30-365a-40e3-9eb8-4059cb31970d",
   "metadata": {},
   "source": [
    "# Image Filtering"
   ]
  },
  {
   "cell_type": "markdown",
   "id": "08e08280-0875-4913-8873-dcb558c30f91",
   "metadata": {},
   "source": [
    "# (a) Blurring :-"
   ]
  },
  {
   "cell_type": "code",
   "execution_count": 10,
   "id": "4607e43f-02ed-4d15-8d49-c550756603ce",
   "metadata": {},
   "outputs": [
    {
     "data": {
      "text/plain": [
       "array([[[ 30,  17,  25],\n",
       "        [ 30,  17,  25],\n",
       "        [ 31,  18,  26],\n",
       "        ...,\n",
       "        [  5,   3,   9],\n",
       "        [  5,   3,   9],\n",
       "        [  5,   3,   9]],\n",
       "\n",
       "       [[ 30,  17,  25],\n",
       "        [ 30,  17,  25],\n",
       "        [ 31,  18,  26],\n",
       "        ...,\n",
       "        [  5,   3,   9],\n",
       "        [  5,   3,   9],\n",
       "        [  5,   3,   9]],\n",
       "\n",
       "       [[ 30,  17,  25],\n",
       "        [ 30,  17,  25],\n",
       "        [ 31,  18,  26],\n",
       "        ...,\n",
       "        [  5,   3,   9],\n",
       "        [  5,   3,   9],\n",
       "        [  5,   3,   9]],\n",
       "\n",
       "       ...,\n",
       "\n",
       "       [[  7,  36,  97],\n",
       "        [  7,  35,  96],\n",
       "        [  6,  34,  94],\n",
       "        ...,\n",
       "        [  2,  16,  58],\n",
       "        [  2,  16,  59],\n",
       "        [  2,  16,  60]],\n",
       "\n",
       "       [[  8,  37, 100],\n",
       "        [  8,  36,  99],\n",
       "        [  8,  35,  96],\n",
       "        ...,\n",
       "        [  2,  18,  61],\n",
       "        [  2,  18,  62],\n",
       "        [  2,  18,  62]],\n",
       "\n",
       "       [[  8,  37, 101],\n",
       "        [  8,  37, 100],\n",
       "        [  8,  36,  98],\n",
       "        ...,\n",
       "        [  2,  18,  62],\n",
       "        [  2,  19,  63],\n",
       "        [  2,  19,  63]]], dtype=uint8)"
      ]
     },
     "execution_count": 10,
     "metadata": {},
     "output_type": "execute_result"
    }
   ],
   "source": [
    "blurred_image = cv2.GaussianBlur(image, (11, 11), 0)\n",
    "blurred_image"
   ]
  },
  {
   "cell_type": "markdown",
   "id": "fd0bc826-ac17-484b-882c-d9693faa7be1",
   "metadata": {},
   "source": [
    "# Edge Detection :-"
   ]
  },
  {
   "cell_type": "code",
   "execution_count": 11,
   "id": "a6a42d04-314c-4ba2-839b-a1a429db8a4f",
   "metadata": {},
   "outputs": [
    {
     "data": {
      "text/plain": [
       "array([[  0,   0,   0, ...,   0,   0,   0],\n",
       "       [  0,   0,   0, ...,   0,   0,   0],\n",
       "       [  0,   0,   0, ...,   0,   0,   0],\n",
       "       ...,\n",
       "       [  0, 255, 255, ...,   0,   0,   0],\n",
       "       [  0,   0,   0, ...,   0,   0,   0],\n",
       "       [  0,   0,   0, ...,   0,   0,   0]], dtype=uint8)"
      ]
     },
     "execution_count": 11,
     "metadata": {},
     "output_type": "execute_result"
    }
   ],
   "source": [
    "edges = cv2.Canny(image, 100, 200)\n",
    "edges"
   ]
  },
  {
   "cell_type": "markdown",
   "id": "c31cb0aa-139c-45df-b922-3546e27546be",
   "metadata": {},
   "source": [
    "# Thresholding :-"
   ]
  },
  {
   "cell_type": "code",
   "execution_count": 12,
   "id": "b9ad687e-5b84-47f5-a7b7-c27d3822f3b8",
   "metadata": {},
   "outputs": [
    {
     "data": {
      "text/plain": [
       "(127.0,\n",
       " array([[0, 0, 0, ..., 0, 0, 0],\n",
       "        [0, 0, 0, ..., 0, 0, 0],\n",
       "        [0, 0, 0, ..., 0, 0, 0],\n",
       "        ...,\n",
       "        [0, 0, 0, ..., 0, 0, 0],\n",
       "        [0, 0, 0, ..., 0, 0, 0],\n",
       "        [0, 0, 0, ..., 0, 0, 0]], dtype=uint8))"
      ]
     },
     "execution_count": 12,
     "metadata": {},
     "output_type": "execute_result"
    }
   ],
   "source": [
    "_, binary_image = cv2.threshold(gray_image, 127, 255, cv2.THRESH_BINARY)\n",
    "_, binary_image"
   ]
  },
  {
   "cell_type": "markdown",
   "id": "a2a56e0f-058e-4282-9a25-c9672cd9cea2",
   "metadata": {},
   "source": [
    "# Contours :-"
   ]
  },
  {
   "cell_type": "code",
   "execution_count": 13,
   "id": "a851a758-a94b-466b-a297-35c2f8d9cfc2",
   "metadata": {},
   "outputs": [
    {
     "data": {
      "text/plain": [
       "array([[[ 29,  16,  24],\n",
       "        [ 30,  17,  25],\n",
       "        [ 31,  18,  26],\n",
       "        ...,\n",
       "        [  5,   3,   9],\n",
       "        [  5,   3,   9],\n",
       "        [  4,   3,   7]],\n",
       "\n",
       "       [[ 29,  16,  24],\n",
       "        [ 30,  17,  25],\n",
       "        [ 31,  18,  26],\n",
       "        ...,\n",
       "        [  5,   3,   9],\n",
       "        [  5,   3,   9],\n",
       "        [  4,   3,   7]],\n",
       "\n",
       "       [[ 29,  16,  24],\n",
       "        [ 29,  16,  24],\n",
       "        [ 30,  17,  25],\n",
       "        ...,\n",
       "        [  5,   3,   9],\n",
       "        [  5,   3,   9],\n",
       "        [  4,   3,   7]],\n",
       "\n",
       "       ...,\n",
       "\n",
       "       [[  8,  37, 106],\n",
       "        [  2,  31,  98],\n",
       "        [  0,  26,  91],\n",
       "        ...,\n",
       "        [  0,  17,  60],\n",
       "        [  0,  18,  61],\n",
       "        [  0,  19,  62]],\n",
       "\n",
       "       [[ 11,  42, 111],\n",
       "        [  9,  41, 107],\n",
       "        [ 10,  40, 105],\n",
       "        ...,\n",
       "        [  4,  23,  68],\n",
       "        [  4,  23,  68],\n",
       "        [  1,  20,  65]],\n",
       "\n",
       "       [[ 15,  46, 115],\n",
       "        [ 15,  47, 113],\n",
       "        [ 19,  49, 114],\n",
       "        ...,\n",
       "        [  3,  22,  67],\n",
       "        [  2,  21,  66],\n",
       "        [  2,  21,  66]]], dtype=uint8)"
      ]
     },
     "execution_count": 13,
     "metadata": {},
     "output_type": "execute_result"
    }
   ],
   "source": [
    "# Find contours\n",
    "contours, _ = cv2.findContours(binary_image, cv2.RETR_TREE, cv2.CHAIN_APPROX_SIMPLE)\n",
    "\n",
    "# Draw contours\n",
    "cv2.drawContours(image, contours, -1, (0, 255, 0), 3)"
   ]
  },
  {
   "cell_type": "markdown",
   "id": "6be9b0cd-1a0e-4416-9c34-d20b4b9f1785",
   "metadata": {},
   "source": [
    "# Face Detection using Haar Cascades :-"
   ]
  },
  {
   "cell_type": "code",
   "execution_count": 14,
   "id": "23f5f05d-6665-4bd4-bbd7-407d7d9ffd78",
   "metadata": {},
   "outputs": [],
   "source": [
    "import cv2\n",
    "# Load the cascade\n",
    "face_cascade = cv2.CascadeClassifier(cv2.data.haarcascades + 'haarcascade_frontalface_default.xml')\n",
    "\n",
    "# Detect faces\n",
    "faces = face_cascade.detectMultiScale(gray_image, 1.1, 4)\n",
    "\n",
    "# Draw rectangle around the faces\n",
    "for (x, y, w, h) in faces:\n",
    "    cv2.rectangle(image, (x, y), (x+w, y+h), (255, 0, 0), 2)"
   ]
  },
  {
   "cell_type": "markdown",
   "id": "6d523996-7b27-4823-bccf-cce956102799",
   "metadata": {},
   "source": [
    "# Video Capture and Processing"
   ]
  },
  {
   "cell_type": "markdown",
   "id": "8a515909-7ba2-4638-b518-01d158e544ba",
   "metadata": {},
   "source": [
    "# Capturing Video from Webcam :-"
   ]
  },
  {
   "cell_type": "code",
   "execution_count": null,
   "id": "33e10ab9-17fa-48d4-9d47-0a8e98ff36f3",
   "metadata": {},
   "outputs": [],
   "source": [
    "cap = cv2.VideoCapture(0)\n",
    "\n",
    "while True:\n",
    "    ret, frame = cap.read()\n",
    "    cv2.imshow('Video', frame)\n",
    "    \n",
    "    if cv2.waitKey(1) & 0xFF == ord('q'):\n",
    "        break\n",
    "\n",
    "cap.release()\n",
    "cv2.destroyAllWindows()"
   ]
  },
  {
   "cell_type": "markdown",
   "id": "fa7697a1-8fb4-42d9-a1c4-f3e77e9e345e",
   "metadata": {},
   "source": [
    "# Saving Video :-"
   ]
  },
  {
   "cell_type": "code",
   "execution_count": null,
   "id": "ec7140cc-ba13-476c-8a1b-eb6b1291ae72",
   "metadata": {},
   "outputs": [],
   "source": [
    "import cv2\n",
    "fourcc = cv2.VideoWriter_fourcc(*'XVID')\n",
    "out = cv2.VideoWriter('output.avi', fourcc, 20.0, (640, 480))\n",
    "\n",
    "while cap.isOpened():\n",
    "    ret, frame = cap.read()\n",
    "    if ret:\n",
    "        out.write(frame)\n",
    "        cv2.imshow('frame', frame)\n",
    "        if cv2.waitKey(1) & 0xFF == ord('q'):\n",
    "            break\n",
    "    else:\n",
    "        break\n",
    "\n",
    "cap.release()\n",
    "out.release()\n",
    "cv2.destroyAllWindows()"
   ]
  },
  {
   "cell_type": "code",
   "execution_count": null,
   "id": "e7d02538-7163-40a8-8d03-6d54cded5b81",
   "metadata": {},
   "outputs": [],
   "source": [
    "cv2.destroyAllWindows()"
   ]
  }
 ],
 "metadata": {
  "kernelspec": {
   "display_name": "Python 3 (ipykernel)",
   "language": "python",
   "name": "python3"
  },
  "language_info": {
   "codemirror_mode": {
    "name": "ipython",
    "version": 3
   },
   "file_extension": ".py",
   "mimetype": "text/x-python",
   "name": "python",
   "nbconvert_exporter": "python",
   "pygments_lexer": "ipython3",
   "version": "3.12.4"
  }
 },
 "nbformat": 4,
 "nbformat_minor": 5
}
